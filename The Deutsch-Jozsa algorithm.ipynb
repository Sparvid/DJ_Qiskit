{
 "cells": [
  {
   "cell_type": "code",
   "execution_count": 2,
   "id": "d88182a1-ddc0-4b77-b0d5-75fdae62fc0c",
   "metadata": {},
   "outputs": [],
   "source": [
    "from qiskit import QuantumCircuit, transpile\n",
    "from qiskit_aer import Aer\n",
    "from qiskit.circuit.library import UnitaryGate\n",
    "import numpy as np"
   ]
  },
  {
   "cell_type": "markdown",
   "id": "ce059993-ba99-4630-a6d9-38087ffaab14",
   "metadata": {},
   "source": [
    "# Unitary matrices of functions"
   ]
  },
  {
   "cell_type": "code",
   "execution_count": 3,
   "id": "4b0e7f26-5f01-4d39-8b44-4dc01478c7ef",
   "metadata": {},
   "outputs": [],
   "source": [
    "# Flips the input\n",
    "U_f_balanced = np.array([\n",
    "    [0, 1, 0, 0, 0, 0, 0, 0],\n",
    "    [1, 0, 0, 0, 0, 0, 0, 0],\n",
    "    [0, 0, 0, 1, 0, 0, 0, 0],\n",
    "    [0, 0, 1, 0, 0, 0, 0, 0],\n",
    "    [0, 0, 0, 0, 1, 0, 0, 0],\n",
    "    [0, 0, 0, 0, 0, 1, 0, 0],\n",
    "    [0, 0, 0, 0, 0, 0, 1, 0],\n",
    "    [0, 0, 0, 0, 0, 0, 0, 1],\n",
    "])\n",
    "\n",
    "# Maps all input to 0:\n",
    "U_f_constant = np.array([ \n",
    "    [0, 1, 0, 0, 0, 0, 0, 0],\n",
    "    [1, 0, 0, 0, 0, 0, 0, 0],\n",
    "    [0, 0, 0, 1, 0, 0, 0, 0],\n",
    "    [0, 0, 1, 0, 0, 0, 0, 0],\n",
    "    [0, 0, 0, 0, 0, 1, 0, 0],\n",
    "    [0, 0, 0, 0, 1, 0, 0, 0],\n",
    "    [0, 0, 0, 0, 0, 0, 0, 1],\n",
    "    [0, 0, 0, 0, 0, 0, 1, 0],\n",
    "])"
   ]
  },
  {
   "cell_type": "markdown",
   "id": "c49ee56c-031b-4003-8fb3-4beeae2effee",
   "metadata": {},
   "source": [
    "# Modelling and drawing the circuit"
   ]
  },
  {
   "cell_type": "code",
   "execution_count": 4,
   "id": "2dd669a7-9b76-4b37-99a5-95ad769beb53",
   "metadata": {
    "scrolled": true
   },
   "outputs": [
    {
     "ename": "CircuitError",
     "evalue": "'The amount of qubit(2)/clbit(0) arguments does not match the gate expectation (3).'",
     "output_type": "error",
     "traceback": [
      "\u001b[31m---------------------------------------------------------------------------\u001b[39m",
      "\u001b[31mCircuitError\u001b[39m                              Traceback (most recent call last)",
      "\u001b[36mCell\u001b[39m\u001b[36m \u001b[39m\u001b[32mIn[4]\u001b[39m\u001b[32m, line 17\u001b[39m\n\u001b[32m     14\u001b[39m \u001b[38;5;66;03m# Step 3: Apply the unitary matrix representing the function f\u001b[39;00m\n\u001b[32m     15\u001b[39m \u001b[38;5;66;03m#U_f = UnitaryGate(U_f_constant, label=\"U_f_constant\")\u001b[39;00m\n\u001b[32m     16\u001b[39m U_f = UnitaryGate(U_f_balanced, label=\u001b[33m\"\u001b[39m\u001b[33mU_f_balanced\u001b[39m\u001b[33m\"\u001b[39m)\n\u001b[32m---> \u001b[39m\u001b[32m17\u001b[39m \u001b[43mde\u001b[49m\u001b[43m.\u001b[49m\u001b[43mappend\u001b[49m\u001b[43m(\u001b[49m\u001b[43mU_f\u001b[49m\u001b[43m,\u001b[49m\u001b[43m \u001b[49m\u001b[43m[\u001b[49m\u001b[32;43m1\u001b[39;49m\u001b[43m,\u001b[49m\u001b[43m \u001b[49m\u001b[32;43m0\u001b[39;49m\u001b[43m]\u001b[49m\u001b[43m)\u001b[49m\n\u001b[32m     18\u001b[39m de.save_statevector(label=\u001b[33m\"\u001b[39m\u001b[33mphi_3\u001b[39m\u001b[33m\"\u001b[39m)\n\u001b[32m     20\u001b[39m \u001b[38;5;66;03m# Step 4: Put the top bit through a hadamard matrix\u001b[39;00m\n",
      "\u001b[36mFile \u001b[39m\u001b[32m~/Plugg/QP/.venv/lib/python3.13/site-packages/qiskit/circuit/quantumcircuit.py:2492\u001b[39m, in \u001b[36mQuantumCircuit.append\u001b[39m\u001b[34m(self, instruction, qargs, cargs, copy)\u001b[39m\n\u001b[32m   2489\u001b[39m instructions = InstructionSet(resource_requester=circuit_scope.resolve_classical_resource)\n\u001b[32m   2490\u001b[39m \u001b[38;5;66;03m# For Operations that are non-Instructions, we use the Instruction's default method\u001b[39;00m\n\u001b[32m   2491\u001b[39m broadcast_iter = (\n\u001b[32m-> \u001b[39m\u001b[32m2492\u001b[39m     \u001b[43moperation\u001b[49m\u001b[43m.\u001b[49m\u001b[43mbroadcast_arguments\u001b[49m\u001b[43m(\u001b[49m\u001b[43mexpanded_qargs\u001b[49m\u001b[43m,\u001b[49m\u001b[43m \u001b[49m\u001b[43mexpanded_cargs\u001b[49m\u001b[43m)\u001b[49m\n\u001b[32m   2493\u001b[39m     \u001b[38;5;28;01mif\u001b[39;00m \u001b[38;5;28misinstance\u001b[39m(operation, Instruction)\n\u001b[32m   2494\u001b[39m     \u001b[38;5;28;01melse\u001b[39;00m Instruction.broadcast_arguments(operation, expanded_qargs, expanded_cargs)\n\u001b[32m   2495\u001b[39m )\n\u001b[32m   2496\u001b[39m base_instruction = CircuitInstruction(operation, (), ())\n\u001b[32m   2497\u001b[39m \u001b[38;5;28;01mfor\u001b[39;00m qarg, carg \u001b[38;5;129;01min\u001b[39;00m broadcast_iter:\n",
      "\u001b[36mFile \u001b[39m\u001b[32m~/Plugg/QP/.venv/lib/python3.13/site-packages/qiskit/circuit/gate.py:226\u001b[39m, in \u001b[36mGate.broadcast_arguments\u001b[39m\u001b[34m(self, qargs, cargs)\u001b[39m\n\u001b[32m    189\u001b[39m \u001b[38;5;250m\u001b[39m\u001b[33;03m\"\"\"Validation and handling of the arguments and its relationship.\u001b[39;00m\n\u001b[32m    190\u001b[39m \n\u001b[32m    191\u001b[39m \u001b[33;03mFor example, ``cx([q[0],q[1]], q[2])`` means ``cx(q[0], q[2]); cx(q[1], q[2])``. This\u001b[39;00m\n\u001b[32m   (...)\u001b[39m\u001b[32m    223\u001b[39m \u001b[33;03m        arguments does not match the gate expectation.\u001b[39;00m\n\u001b[32m    224\u001b[39m \u001b[33;03m\"\"\"\u001b[39;00m\n\u001b[32m    225\u001b[39m \u001b[38;5;28;01mif\u001b[39;00m \u001b[38;5;28mlen\u001b[39m(qargs) != \u001b[38;5;28mself\u001b[39m.num_qubits \u001b[38;5;129;01mor\u001b[39;00m cargs:\n\u001b[32m--> \u001b[39m\u001b[32m226\u001b[39m     \u001b[38;5;28;01mraise\u001b[39;00m CircuitError(\n\u001b[32m    227\u001b[39m         \u001b[33mf\u001b[39m\u001b[33m\"\u001b[39m\u001b[33mThe amount of qubit(\u001b[39m\u001b[38;5;132;01m{\u001b[39;00m\u001b[38;5;28mlen\u001b[39m(qargs)\u001b[38;5;132;01m}\u001b[39;00m\u001b[33m)/clbit(\u001b[39m\u001b[38;5;132;01m{\u001b[39;00m\u001b[38;5;28mlen\u001b[39m(cargs)\u001b[38;5;132;01m}\u001b[39;00m\u001b[33m) arguments does\u001b[39m\u001b[33m\"\u001b[39m\n\u001b[32m    228\u001b[39m         \u001b[33mf\u001b[39m\u001b[33m\"\u001b[39m\u001b[33m not match the gate expectation (\u001b[39m\u001b[38;5;132;01m{\u001b[39;00m\u001b[38;5;28mself\u001b[39m.num_qubits\u001b[38;5;132;01m}\u001b[39;00m\u001b[33m).\u001b[39m\u001b[33m\"\u001b[39m\n\u001b[32m    229\u001b[39m     )\n\u001b[32m    231\u001b[39m \u001b[38;5;28;01mif\u001b[39;00m \u001b[38;5;28many\u001b[39m(\u001b[38;5;129;01mnot\u001b[39;00m qarg \u001b[38;5;28;01mfor\u001b[39;00m qarg \u001b[38;5;129;01min\u001b[39;00m qargs):\n\u001b[32m    232\u001b[39m     \u001b[38;5;28;01mraise\u001b[39;00m CircuitError(\u001b[33m\"\u001b[39m\u001b[33mOne or more of the arguments are empty\u001b[39m\u001b[33m\"\u001b[39m)\n",
      "\u001b[31mCircuitError\u001b[39m: 'The amount of qubit(2)/clbit(0) arguments does not match the gate expectation (3).'"
     ]
    }
   ],
   "source": [
    "de = QuantumCircuit(3, 1)\n",
    "de.save_statevector(label=\"phi_0\")\n",
    "\n",
    "# Step 1: Flip bottom bit to ket 1\n",
    "de.x(2)\n",
    "de.save_statevector(label=\"phi_1\")\n",
    "\n",
    "# Step 2.1: Put the top bit through H_n (n-1 tensor products)\n",
    "# TODO: GPT claims that putting each qubit through a hadamard is equivalent to applying H_n. Investigate\n",
    "# qc.h(range(n))\n",
    "de.h(0)\n",
    "de.h(1)\n",
    "#de.measure(1,0)\n",
    "de.save_statevector(label=\"phi_2\")\n",
    "\n",
    "# Step 3: Apply the unitary matrix representing the function f\n",
    "#U_f = UnitaryGate(U_f_constant, label=\"U_f_constant\")\n",
    "U_f = UnitaryGate(U_f_balanced, label=\"U_f_balanced\")\n",
    "de.append(U_f, [1, 0])\n",
    "de.save_statevector(label=\"phi_3\")\n",
    "\n",
    "# Step 4: Put the top bit through a hadamard matrix\n",
    "de.h(0)\n",
    "de.save_statevector(label=\"phi_4\")\n",
    "\n",
    "# Step 5: Measure the top qubit\n",
    "de.measure(0,0)\n",
    "\n",
    "de.draw(\"mpl\")"
   ]
  },
  {
   "cell_type": "markdown",
   "id": "64ebf5d4-6c7d-4431-a032-72a366faa10f",
   "metadata": {},
   "source": [
    "# Measurement"
   ]
  },
  {
   "cell_type": "code",
   "execution_count": 22,
   "id": "e7172414-26f4-4934-ba3c-1779b1ba2471",
   "metadata": {},
   "outputs": [
    {
     "name": "stdout",
     "output_type": "stream",
     "text": [
      "Measurement results: {'1': 100000}\n"
     ]
    }
   ],
   "source": [
    "simulator = Aer.get_backend('aer_simulator')\n",
    "\n",
    "# Transpile the circuit for the backend\n",
    "compiled_circuit = transpile(de, simulator)\n",
    "\n",
    "# Run the circuit\n",
    "result = simulator.run(compiled_circuit, shots=100000).result()\n",
    "\n",
    "# Get and print the counts\n",
    "counts = result.get_counts()\n",
    "print(\"Measurement results:\", counts)\n"
   ]
  },
  {
   "cell_type": "markdown",
   "id": "78fc113d-bda8-4abe-8056-def976dfa054",
   "metadata": {},
   "source": [
    "# Viewing intermediate states"
   ]
  },
  {
   "cell_type": "code",
   "execution_count": 23,
   "id": "8a08d6f3-bda7-48c9-b50e-8cd9e8dbf0a0",
   "metadata": {},
   "outputs": [
    {
     "name": "stdout",
     "output_type": "stream",
     "text": [
      "Phi 0:\n",
      " Statevector([1.+0.j, 0.+0.j, 0.+0.j, 0.+0.j],\n",
      "            dims=(2, 2))\n",
      "Phi 1:\n",
      " Statevector([0.+0.j, 0.+0.j, 1.+0.j, 0.+0.j],\n",
      "            dims=(2, 2))\n",
      "Phi 2:\n",
      " Statevector([ 0.5-6.123234e-17j,  0.5-6.123234e-17j, -0.5+6.123234e-17j,\n",
      "             -0.5+6.123234e-17j],\n",
      "            dims=(2, 2))\n",
      "Phi 3:\n",
      " Statevector([ 0.5-6.123234e-17j, -0.5+6.123234e-17j, -0.5+6.123234e-17j,\n",
      "              0.5-6.123234e-17j],\n",
      "            dims=(2, 2))\n",
      "Phi 4:\n",
      " Statevector([ 5.55111512e-17+4.32978028e-17j,\n",
      "              7.07106781e-01-1.29893408e-16j,\n",
      "             -1.66533454e-16-4.32978028e-17j,\n",
      "             -7.07106781e-01+1.29893408e-16j],\n",
      "            dims=(2, 2))\n"
     ]
    }
   ],
   "source": [
    "# Retrieve states\n",
    "state_0 = result.data(0)[\"phi_0\"]\n",
    "state_1 = result.data(0)[\"phi_1\"]\n",
    "state_2 = result.data(0)[\"phi_2\"]\n",
    "state_3 = result.data(0)[\"phi_3\"]\n",
    "state_4 = result.data(0)[\"phi_4\"]\n",
    "from qiskit.quantum_info import Statevector\n",
    "print(\"Phi 0:\\n\", Statevector(state_0))\n",
    "print(\"Phi 1:\\n\", Statevector(state_1))\n",
    "print(\"Phi 2:\\n\", Statevector(state_2))\n",
    "print(\"Phi 3:\\n\", Statevector(state_3))\n",
    "print(\"Phi 4:\\n\", Statevector(state_4))"
   ]
  },
  {
   "cell_type": "code",
   "execution_count": null,
   "id": "286ad657-20b4-4924-b1f3-8389772d468d",
   "metadata": {},
   "outputs": [],
   "source": []
  }
 ],
 "metadata": {
  "kernelspec": {
   "display_name": "Python 3 (ipykernel)",
   "language": "python",
   "name": "python3"
  },
  "language_info": {
   "codemirror_mode": {
    "name": "ipython",
    "version": 3
   },
   "file_extension": ".py",
   "mimetype": "text/x-python",
   "name": "python",
   "nbconvert_exporter": "python",
   "pygments_lexer": "ipython3",
   "version": "3.13.3"
  }
 },
 "nbformat": 4,
 "nbformat_minor": 5
}
