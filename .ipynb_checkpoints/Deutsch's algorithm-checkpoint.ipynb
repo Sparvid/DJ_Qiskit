{
 "cells": [
  {
   "cell_type": "code",
   "execution_count": 80,
   "id": "2dd669a7-9b76-4b37-99a5-95ad769beb53",
   "metadata": {
    "scrolled": true
   },
   "outputs": [
    {
     "data": {
      "image/png": "[encoded data removed]",
      "text/plain": [
       "<Figure size 1541.46x284.278 with 1 Axes>"
      ]
     },
     "execution_count": 80,
     "metadata": {},
     "output_type": "execute_result"
    }
   ],
   "source": [
    "from qiskit import QuantumCircuit, transpile\n",
    "from qiskit_aer import Aer\n",
    "from qiskit.circuit.library import UnitaryGate\n",
    "import numpy as np\n",
    "\n",
    "# Flips the input\n",
    "U_f_balanced = np.array([\n",
    "    [1, 0, 0, 0],\n",
    "    [0, 1, 0, 0],\n",
    "    [0, 0, 0, 1],\n",
    "    [0, 0, 1, 0]\n",
    "])\n",
    "\n",
    "# Maps all input to 0:\n",
    "U_f_constant = np.array([ \n",
    "    [1, 0, 0, 0],\n",
    "    [0, 1, 0, 0],\n",
    "    [0, 0, 1, 0],\n",
    "    [0, 0, 0, 1]\n",
    "])\n",
    "\n",
    "\n",
    "de = QuantumCircuit(2, 1)\n",
    "de.save_statevector(label=\"phi_0\")\n",
    "# Step 1: Flip bottom bit to ket 1\n",
    "de.x(1)\n",
    "de.save_statevector(label=\"phi_1\")\n",
    "\n",
    "\n",
    "# Step 2: Put both bits through hadamard matrices\n",
    "de.h(0)\n",
    "de.h(1)\n",
    "#de.measure(1,0)\n",
    "de.save_statevector(label=\"phi_2\")\n",
    "\n",
    "# Step 3: Apply the unitary matrix representing the function f\n",
    "#U_f = UnitaryGate(U_f_constant, label=\"U_f_constant\")\n",
    "U_f = UnitaryGate(U_f_balanced, label=\"U_f_balanced\")\n",
    "de.append(U_f, [0, 1])\n",
    "de.save_statevector(label=\"phi_3\")\n",
    "\n",
    "# Step 4: Put the top bit through a hadamard matrix\n",
    "de.h(0)\n",
    "de.save_statevector(label=\"phi_4\")\n",
    "\n",
    "# Step 5: Measure the top qubit\n",
    "de.measure(0,0)\n",
    "\n",
    "de.draw(\"mpl\")"
   ]
  },
  {
   "cell_type": "code",
   "execution_count": 81,
   "id": "e7172414-26f4-4934-ba3c-1779b1ba2471",
   "metadata": {},
   "outputs": [
    {
     "name": "stdout",
     "output_type": "stream",
     "text": [
      "Measurement results: {'0': 100000}\n",
      "Phi 0:\n",
      " Statevector([1.+0.j, 0.+0.j, 0.+0.j, 0.+0.j],\n",
      "            dims=(2, 2))\n",
      "Phi 1:\n",
      " Statevector([0.+0.j, 0.+0.j, 1.+0.j, 0.+0.j],\n",
      "            dims=(2, 2))\n",
      "Phi 2:\n",
      " Statevector([ 0.5-6.123234e-17j,  0.5-6.123234e-17j, -0.5+6.123234e-17j,\n",
      "             -0.5+6.123234e-17j],\n",
      "            dims=(2, 2))\n",
      "Phi 3:\n",
      " Statevector([ 0.5-6.123234e-17j,  0.5-6.123234e-17j, -0.5+6.123234e-17j,\n",
      "             -0.5+6.123234e-17j],\n",
      "            dims=(2, 2))\n",
      "Phi 4:\n",
      " Statevector([ 7.07106781e-01-1.29893408e-16j,\n",
      "              0.00000000e+00+4.32978028e-17j,\n",
      "             -7.07106781e-01+1.29893408e-16j,\n",
      "              1.11022302e-16-4.32978028e-17j],\n",
      "            dims=(2, 2))\n"
     ]
    }
   ],
   "source": [
    "# simulator = Aer.get_backend('aer_simulator')\n",
    "\n",
    "# Transpile the circuit for the backend\n",
    "compiled_circuit = transpile(de, simulator)\n",
    "\n",
    "# Run the circuit\n",
    "result = simulator.run(compiled_circuit, shots=100000).result()\n",
    "\n",
    "# Get and print the counts\n",
    "counts = result.get_counts()\n",
    "print(\"Measurement results:\", counts)\n",
    "# Retrieve states\n",
    "state_0 = result.data(0)[\"phi_0\"]\n",
    "state_1 = result.data(0)[\"phi_1\"]\n",
    "state_2 = result.data(0)[\"phi_2\"]\n",
    "state_3 = result.data(0)[\"phi_3\"]\n",
    "state_4 = result.data(0)[\"phi_4\"]\n",
    "from qiskit.quantum_info import Statevector\n",
    "print(\"Phi 0:\\n\", Statevector(state_0))\n",
    "print(\"Phi 1:\\n\", Statevector(state_1))\n",
    "print(\"Phi 2:\\n\", Statevector(state_2))\n",
    "print(\"Phi 3:\\n\", Statevector(state_3))\n",
    "print(\"Phi 4:\\n\", Statevector(state_4))"
   ]
  },
  {
   "cell_type": "code",
   "execution_count": null,
   "id": "8a08d6f3-bda7-48c9-b50e-8cd9e8dbf0a0",
   "metadata": {},
   "outputs": [],
   "source": []
  }
 ],
 "metadata": {
  "kernelspec": {
   "display_name": "Python 3 (ipykernel)",
   "language": "python",
   "name": "python3"
  },
  "language_info": {
   "codemirror_mode": {
    "name": "ipython",
    "version": 3
   },
   "file_extension": ".py",
   "mimetype": "text/x-python",
   "name": "python",
   "nbconvert_exporter": "python",
   "pygments_lexer": "ipython3",
   "version": "3.13.3"
  }
 },
 "nbformat": 4,
 "nbformat_minor": 5
}
