{
 "cells": [
  {
   "cell_type": "code",
   "execution_count": 1,
   "id": "d88182a1-ddc0-4b77-b0d5-75fdae62fc0c",
   "metadata": {},
   "outputs": [],
   "source": [
    "from qiskit import QuantumCircuit, transpile\n",
    "from qiskit_aer import Aer\n",
    "from qiskit.circuit.library import UnitaryGate\n",
    "import numpy as np"
   ]
  },
  {
   "cell_type": "markdown",
   "id": "ce059993-ba99-4630-a6d9-38087ffaab14",
   "metadata": {},
   "source": [
    "# Unitary matrices of functions"
   ]
  },
  {
   "cell_type": "code",
   "execution_count": 2,
   "id": "4b0e7f26-5f01-4d39-8b44-4dc01478c7ef",
   "metadata": {},
   "outputs": [],
   "source": [
    "# Flips the input\n",
    "U_f_balanced = np.array([\n",
    "    [0, 1, 0, 0, 0, 0, 0, 0],\n",
    "    [1, 0, 0, 0, 0, 0, 0, 0],\n",
    "    [0, 0, 0, 1, 0, 0, 0, 0],\n",
    "    [0, 0, 1, 0, 0, 0, 0, 0],\n",
    "    [0, 0, 0, 0, 1, 0, 0, 0],\n",
    "    [0, 0, 0, 0, 0, 1, 0, 0],\n",
    "    [0, 0, 0, 0, 0, 0, 1, 0],\n",
    "    [0, 0, 0, 0, 0, 0, 0, 1],\n",
    "])\n",
    "\n",
    "# Maps all input to 1:\n",
    "U_f_constant = np.array([ \n",
    "    [0, 1, 0, 0, 0, 0, 0, 0],\n",
    "    [1, 0, 0, 0, 0, 0, 0, 0],\n",
    "    [0, 0, 0, 1, 0, 0, 0, 0],\n",
    "    [0, 0, 1, 0, 0, 0, 0, 0],\n",
    "    [0, 0, 0, 0, 0, 1, 0, 0],\n",
    "    [0, 0, 0, 0, 1, 0, 0, 0],\n",
    "    [0, 0, 0, 0, 0, 0, 0, 1],\n",
    "    [0, 0, 0, 0, 0, 0, 1, 0],\n",
    "])\n",
    "\n",
    "# General function (majority output 0):\n",
    "U_f_general0 = np.array([ \n",
    "    [1, 0, 0, 0, 0, 0, 0, 0],\n",
    "    [0, 1, 0, 0, 0, 0, 0, 0],\n",
    "    [0, 0, 1, 0, 0, 0, 0, 0],\n",
    "    [0, 0, 0, 1, 0, 0, 0, 0],\n",
    "    [0, 0, 0, 0, 1, 0, 0, 0],\n",
    "    [0, 0, 0, 0, 0, 1, 0, 0],\n",
    "    [0, 0, 0, 0, 0, 0, 0, 1],\n",
    "    [0, 0, 0, 0, 0, 0, 1, 0],\n",
    "])\n",
    "\n",
    "# General function (majority output 1):\n",
    "U_f_general1 = np.array([\n",
    "    [0, 1, 0, 0, 0, 0, 0, 0],\n",
    "    [1, 0, 0, 0, 0, 0, 0, 0],\n",
    "    [0, 0, 0, 1, 0, 0, 0, 0],\n",
    "    [0, 0, 1, 0, 0, 0, 0, 0],\n",
    "    [0, 0, 0, 0, 0, 1, 0, 0],\n",
    "    [0, 0, 0, 0, 1, 0, 0, 0],\n",
    "    [0, 0, 0, 0, 0, 0, 1, 0],\n",
    "    [0, 0, 0, 0, 0, 0, 0, 1],\n",
    "])"
   ]
  },
  {
   "cell_type": "markdown",
   "id": "c49ee56c-031b-4003-8fb3-4beeae2effee",
   "metadata": {},
   "source": [
    "# Modelling and drawing the circuit"
   ]
  },
  {
   "cell_type": "code",
   "execution_count": 3,
   "id": "2dd669a7-9b76-4b37-99a5-95ad769beb53",
   "metadata": {
    "scrolled": true
   },
   "outputs": [
    {
     "data": {
      "image/png": "[encoded data removed]",
      "text/plain": [
       "<Figure size 1625.27x367.889 with 1 Axes>"
      ]
     },
     "execution_count": 3,
     "metadata": {},
     "output_type": "execute_result"
    }
   ],
   "source": [
    "# n is the number of input qubits to the function\n",
    "n = 2\n",
    "\n",
    "de = QuantumCircuit(3, 2) # 3 qubits, 2 measure bits\n",
    "de.save_statevector(label=\"phi_0\")\n",
    "\n",
    "# Step 1: Flip bottom bit to ket 1\n",
    "de.x(2)\n",
    "de.save_statevector(label=\"phi_1\")\n",
    "\n",
    "# Step 2.1: Put the top bit through H_n (n tensor products)\n",
    "de.h(range(n+1)) # for bottom qubit as well\n",
    "de.save_statevector(label=\"phi_2\")\n",
    "\n",
    "# Step 3: Apply the unitary matrix representing the function f\n",
    "#U_f = UnitaryGate(U_f_constant, label=\"U_f_constant\")\n",
    "#U_f = UnitaryGate(U_f_balanced, label=\"U_f_balanced\")\n",
    "U_f = UnitaryGate(U_f_general0, label=\"U_f_general0\")\n",
    "#U_f = UnitaryGate(U_f_general1, label=\"U_f_general1\")\n",
    "de.append(U_f, [2, 1, 0])\n",
    "de.save_statevector(label=\"phi_3\")\n",
    "\n",
    "# Step 4: Put the top n bits through a hadamard matrix\n",
    "de.h(range(n))\n",
    "de.save_statevector(label=\"phi_4\")\n",
    "\n",
    "# Step 5: Measure the top qubit\n",
    "de.measure(0,0)\n",
    "de.measure(1,1)\n",
    "\n",
    "de.draw(\"mpl\")"
   ]
  },
  {
   "cell_type": "markdown",
   "id": "64ebf5d4-6c7d-4431-a032-72a366faa10f",
   "metadata": {},
   "source": [
    "# Measurement"
   ]
  },
  {
   "cell_type": "code",
   "execution_count": 7,
   "id": "e7172414-26f4-4934-ba3c-1779b1ba2471",
   "metadata": {},
   "outputs": [
    {
     "name": "stdout",
     "output_type": "stream",
     "text": [
      "Measurement results: {'11': 24983, '00': 25069, '10': 25039, '01': 24909}\n"
     ]
    }
   ],
   "source": [
    "simulator = Aer.get_backend('aer_simulator')\n",
    "\n",
    "# Transpile the circuit for the backend\n",
    "compiled_circuit = transpile(de, simulator)\n",
    "\n",
    "# Run the circuit\n",
    "result = simulator.run(compiled_circuit, shots=100000).result()\n",
    "\n",
    "# Get and print the counts\n",
    "counts = result.get_counts()\n",
    "print(\"Measurement results:\", counts)\n"
   ]
  },
  {
   "cell_type": "markdown",
   "id": "78fc113d-bda8-4abe-8056-def976dfa054",
   "metadata": {},
   "source": [
    "# Viewing intermediate states"
   ]
  },
  {
   "cell_type": "code",
   "execution_count": 8,
   "id": "8a08d6f3-bda7-48c9-b50e-8cd9e8dbf0a0",
   "metadata": {},
   "outputs": [
    {
     "name": "stdout",
     "output_type": "stream",
     "text": [
      "Phi 0:\n",
      " Statevector([1.+0.j, 0.+0.j, 0.+0.j, 0.+0.j, 0.+0.j, 0.+0.j, 0.+0.j,\n",
      "             0.+0.j],\n",
      "            dims=(2, 2, 2))\n",
      "Phi 1:\n",
      " Statevector([0.+0.j, 0.+0.j, 0.+0.j, 0.+0.j, 1.+0.j, 0.+0.j, 0.+0.j,\n",
      "             0.+0.j],\n",
      "            dims=(2, 2, 2))\n",
      "Phi 2:\n",
      " Statevector([ 0.35355339-4.32978028e-17j,  0.35355339-4.32978028e-17j,\n",
      "              0.35355339-4.32978028e-17j,  0.35355339-4.32978028e-17j,\n",
      "             -0.35355339+4.32978028e-17j, -0.35355339+4.32978028e-17j,\n",
      "             -0.35355339+4.32978028e-17j, -0.35355339+4.32978028e-17j],\n",
      "            dims=(2, 2, 2))\n",
      "Phi 3:\n",
      " Statevector([ 0.35355339-4.32978028e-17j,  0.35355339-4.32978028e-17j,\n",
      "              0.35355339-4.32978028e-17j, -0.35355339+4.32978028e-17j,\n",
      "             -0.35355339+4.32978028e-17j, -0.35355339+4.32978028e-17j,\n",
      "             -0.35355339+4.32978028e-17j,  0.35355339-4.32978028e-17j],\n",
      "            dims=(2, 2, 2))\n",
      "Phi 4:\n",
      " Statevector([ 0.35355339-4.32978028e-17j,  0.35355339-8.65956056e-17j,\n",
      "              0.35355339-8.65956056e-17j, -0.35355339+1.29893408e-16j,\n",
      "             -0.35355339+4.32978028e-17j, -0.35355339+8.65956056e-17j,\n",
      "             -0.35355339+8.65956056e-17j,  0.35355339-1.29893408e-16j],\n",
      "            dims=(2, 2, 2))\n"
     ]
    }
   ],
   "source": [
    "# Retrieve states\n",
    "state_0 = result.data(0)[\"phi_0\"]\n",
    "state_1 = result.data(0)[\"phi_1\"]\n",
    "state_2 = result.data(0)[\"phi_2\"]\n",
    "state_3 = result.data(0)[\"phi_3\"]\n",
    "state_4 = result.data(0)[\"phi_4\"]\n",
    "from qiskit.quantum_info import Statevector\n",
    "print(\"Phi 0:\\n\", Statevector(state_0))\n",
    "print(\"Phi 1:\\n\", Statevector(state_1))\n",
    "print(\"Phi 2:\\n\", Statevector(state_2))\n",
    "print(\"Phi 3:\\n\", Statevector(state_3))\n",
    "print(\"Phi 4:\\n\", Statevector(state_4))"
   ]
  },
  {
   "cell_type": "code",
   "execution_count": null,
   "id": "286ad657-20b4-4924-b1f3-8389772d468d",
   "metadata": {},
   "outputs": [],
   "source": []
  }
 ],
 "metadata": {
  "kernelspec": {
   "display_name": "Python 3 (ipykernel)",
   "language": "python",
   "name": "python3"
  },
  "language_info": {
   "codemirror_mode": {
    "name": "ipython",
    "version": 3
   },
   "file_extension": ".py",
   "mimetype": "text/x-python",
   "name": "python",
   "nbconvert_exporter": "python",
   "pygments_lexer": "ipython3",
   "version": "3.13.3"
  }
 },
 "nbformat": 4,
 "nbformat_minor": 5
}
